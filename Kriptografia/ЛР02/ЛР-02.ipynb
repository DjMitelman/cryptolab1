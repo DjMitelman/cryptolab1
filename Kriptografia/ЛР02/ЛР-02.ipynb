{
 "cells": [
  {
   "cell_type": "code",
   "execution_count": 1,
   "id": "c5220fdc",
   "metadata": {
    "ExecuteTime": {
     "end_time": "2024-02-19T04:13:07.647094100Z",
     "start_time": "2024-02-19T04:13:07.637088800Z"
    }
   },
   "outputs": [],
   "source": [
    "import sys\n",
    "\n",
    "def prrint(lists):\n",
    "    for i in lists:\n",
    "        for j in i:\n",
    "            print(j, end=\" \")\n",
    "        print()"
   ]
  },
  {
   "cell_type": "code",
   "execution_count": 2,
   "id": "45a578fc",
   "metadata": {
    "ExecuteTime": {
     "end_time": "2024-02-19T04:13:07.656129Z",
     "start_time": "2024-02-19T04:13:07.641095500Z"
    }
   },
   "outputs": [],
   "source": [
    "def marhsrutshifr():\n",
    "    text = input(\"Введите текст \").replace(' ', '')\n",
    "    n = int(input(\"Введите число n \"))\n",
    "    m = int(input(\"Введите число m\" ))\n",
    "    parol = input(\"Введите слово-пароль \")\n",
    "    lists = [['a' for i in range(0, n)] for j in range(m)]\n",
    "    it = 0\n",
    "    for i in range(m):\n",
    "        for j in range(n):\n",
    "            if it < len(text):\n",
    "                lists[i][j] = text[it]\n",
    "                it += 1\n",
    "    lis = list()\n",
    "    for i in range(n):\n",
    "        lis.append(parol[i])\n",
    "    lists.append(lis)\n",
    "    prrint(lists)\n",
    "    result = \"\"\n",
    "    spisok = sorted(lists[len(lists) - 1])\n",
    "    for i in spisok:\n",
    "        print(i, \" = \", lists[len(lists)-1].index(i))\n",
    "        for j in range(len(lists)):\n",
    "            if j==len(lists)-1:\n",
    "                continue\n",
    "            result += lists[j][lists[len(lists)-1].index(i)]\n",
    "    print(result)"
   ]
  },
  {
   "cell_type": "code",
   "execution_count": 3,
   "id": "1575d596",
   "metadata": {
    "ExecuteTime": {
     "end_time": "2024-02-19T04:13:30.437845900Z",
     "start_time": "2024-02-19T04:13:07.656129Z"
    }
   },
   "outputs": [
    {
     "ename": "IndexError",
     "evalue": "string index out of range",
     "output_type": "error",
     "traceback": [
      "\u001B[1;31m---------------------------------------------------------------------------\u001B[0m",
      "\u001B[1;31mIndexError\u001B[0m                                Traceback (most recent call last)",
      "Cell \u001B[1;32mIn[3], line 1\u001B[0m\n\u001B[1;32m----> 1\u001B[0m \u001B[43mmarhsrutshifr\u001B[49m\u001B[43m(\u001B[49m\u001B[43m)\u001B[49m\n",
      "Cell \u001B[1;32mIn[2], line 15\u001B[0m, in \u001B[0;36mmarhsrutshifr\u001B[1;34m()\u001B[0m\n\u001B[0;32m     13\u001B[0m lis \u001B[38;5;241m=\u001B[39m \u001B[38;5;28mlist\u001B[39m()\n\u001B[0;32m     14\u001B[0m \u001B[38;5;28;01mfor\u001B[39;00m i \u001B[38;5;129;01min\u001B[39;00m \u001B[38;5;28mrange\u001B[39m(n):\n\u001B[1;32m---> 15\u001B[0m     lis\u001B[38;5;241m.\u001B[39mappend(\u001B[43mparol\u001B[49m\u001B[43m[\u001B[49m\u001B[43mi\u001B[49m\u001B[43m]\u001B[49m)\n\u001B[0;32m     16\u001B[0m lists\u001B[38;5;241m.\u001B[39mappend(lis)\n\u001B[0;32m     17\u001B[0m prrint(lists)\n",
      "\u001B[1;31mIndexError\u001B[0m: string index out of range"
     ]
    }
   ],
   "source": [
    "marhsrutshifr()"
   ]
  },
  {
   "cell_type": "code",
   "execution_count": null,
   "id": "1892255c",
   "metadata": {
    "ExecuteTime": {
     "end_time": "2024-02-19T04:13:30.452358500Z",
     "start_time": "2024-02-19T04:13:30.442356200Z"
    }
   },
   "outputs": [],
   "source": [
    "def rot90(matrix):\n",
    "    return[list(reversed(col)) for col in zip(*matrix)]\n",
    "\n",
    "def udalenie(largelist, inn, k):\n",
    "    for i in range(k * 2):\n",
    "        for j in range(k * 2):\n",
    "            if largelist[i][j] == inn:\n",
    "                largelist[i][j] = \" \"\n",
    "                return\n",
    "\n",
    "\n",
    "def cardangrille():\n",
    "    k = int(input(\"Введите число k\"))\n",
    "    s=1\n",
    "    lists = [[i for i in range(k)] for i in range(k)]\n",
    "    for i in range(k):\n",
    "        for j in range(k):\n",
    "            lists[i][j] = s\n",
    "            s += 1\n",
    "    print(lists)\n",
    "    lists1 = rot90(lists)\n",
    "    lists2 = rot90(lists1)\n",
    "    lists3 = rot90(lists2)\n",
    "    largelist = [[1 for i in range(2*k)] for i in range(2*k)]\n",
    "    for i in range(k):\n",
    "        for j in range(k):\n",
    "            largelist[i][j] = lists[i][j]\n",
    "    i1 = 0\n",
    "    j1 = 0\n",
    "    for i in range(0, k):\n",
    "        for j in range(k, k*2):\n",
    "            largelist[i][j] = lists1[i1][j1]\n",
    "            j1 += 1\n",
    "        j1 = 0\n",
    "        i1 += 1\n",
    "    i1 = 0\n",
    "    j1 = 0\n",
    "    for i in range(k, k*2):\n",
    "        for j in range(k, k * 2):\n",
    "            largelist[i][j] = lists2[i1][j1]\n",
    "            j1 += 1\n",
    "        j1 = 0\n",
    "        i1 += 1\n",
    "    i1 = 0\n",
    "    j1 = 0\n",
    "    for i in range(k, k * 2):\n",
    "        for j in range(0, k):\n",
    "            largelist[i][j] = lists3[i1][j1]\n",
    "            j1 += 1\n",
    "        j1 = 0\n",
    "        i1 += 1\n",
    "    prrint(largelist)\n",
    "    text = \"тесттесттест\"\n",
    "    largelist_a = [[\" \" for i in range(2*k)] for i in range(2*k)]\n",
    "    s = 0\n",
    "    li = [i for i in range(1,k**2+1)]\n",
    "    for inn in li:\n",
    "        udalenie(largelist, inn, k)\n",
    "    ind = 0\n",
    "    for i in range(k * 2):\n",
    "        for j in range(k * 2):\n",
    "            if largelist[i][j] == largelist_a[i][j] and len(text) > 0:\n",
    "                largelist_a[i][j] = text[0]\n",
    "                text = text[1:]\n",
    "    largelist = rot90(largelist)\n",
    "    for i in range(k * 2):\n",
    "        for j in range(k * 2):\n",
    "            if largelist[i][j] == largelist_a[i][j] and len(text) > 0:\n",
    "                largelist_a[i][j] = text[0]\n",
    "                text = text[1:]\n",
    "    if len(text) > 0:\n",
    "        largelist = rot90(largelist)\n",
    "        for i in range(k * 2):\n",
    "            for j in range(k * 2):\n",
    "                if largelist[i][j] == largelist_a[i][j] and len(text) > 0:\n",
    "                    largelist_a[i][j] = text[0]\n",
    "                    text = text[1:]\n",
    "    if len(text) > 0:\n",
    "        largelist = rot90(largelist)\n",
    "        for i in range(k * 2):\n",
    "            for j in range(k * 2):\n",
    "                if largelist[i][j] == largelist_a[i][j] and len(text) > 0:\n",
    "                    largelist_a[i][j] = text[0]\n",
    "                    text = text[1:]\n",
    "    prrint(largelist_a)\n",
    "    stri = input(\"Введите пароль\")\n",
    "    if len(stri) > k*2:\n",
    "        stri = stri[:k*2]\n",
    "    elif len(stri) < k*2:\n",
    "        while len(stri) != k*2:\n",
    "            stri += \"z\"\n",
    "    largelist_a.append(list(stri))\n",
    "    prrint(largelist_a)\n",
    "    result = \"\"\n",
    "    spisok = sorted(largelist_a[len(largelist_a) - 1])\n",
    "    for i in spisok:\n",
    "        print(i, \" = \", largelist_a[len(largelist_a) - 1].index(i))\n",
    "        for j in range(len(largelist_a)):\n",
    "            if j==len(largelist_a)-1:\n",
    "                continue\n",
    "            result += largelist_a[j][largelist_a[len(largelist_a) - 1].index(i)]\n",
    "    print(result.replace(\" \", \"\"))"
   ]
  },
  {
   "cell_type": "code",
   "execution_count": null,
   "id": "ee80d7bf",
   "metadata": {
    "ExecuteTime": {
     "start_time": "2024-02-19T04:13:30.447359200Z"
    }
   },
   "outputs": [],
   "source": [
    "cardangrille()"
   ]
  },
  {
   "cell_type": "code",
   "execution_count": null,
   "id": "680419a4",
   "metadata": {
    "ExecuteTime": {
     "end_time": "2024-02-19T04:13:30.454360200Z",
     "start_time": "2024-02-19T04:13:30.452358500Z"
    }
   },
   "outputs": [],
   "source": [
    "def form_dict():\n",
    "    d = {}\n",
    "    iter = 0\n",
    "    for i in range(0,127):\n",
    "        d[iter] = chr(i)\n",
    "        iter = iter +1\n",
    "    return d\n",
    "\n",
    "def encode_val(word):\n",
    "    list_code = []\n",
    "    lent = len(word)\n",
    "    d = form_dict()\n",
    "\n",
    "    for w in range(lent):\n",
    "        for value in d:\n",
    "            if word[w] == d[value]:\n",
    "               list_code.append(value)\n",
    "    return list_code\n",
    "\n",
    "def comparator(value, key):\n",
    "    len_key = len(key)\n",
    "    dic = {}\n",
    "    iter = 0\n",
    "    full = 0\n",
    "\n",
    "    for i in value:\n",
    "        dic[full] = [i,key[iter]]\n",
    "        full = full + 1\n",
    "        iter = iter +1\n",
    "        if (iter >= len_key):\n",
    "            iter = 0\n",
    "    return dic\n",
    "\n",
    "def full_encode(value, key):\n",
    "    dic = comparator(value, key)\n",
    "    print('Compare full encode', dic)\n",
    "    lis = []\n",
    "    d = form_dict()\n",
    "\n",
    "    for v in dic:\n",
    "        go = (dic[v][0]+dic[v][1]) % len(d)\n",
    "        lis.append(go)\n",
    "    return lis\n",
    "\n",
    "\n",
    "def decode_val(list_in):\n",
    "    list_code = []\n",
    "    lent = len(list_in)\n",
    "    d = form_dict()\n",
    "\n",
    "    for i in range(lent):\n",
    "        for value in d:\n",
    "            if list_in[i] == value:\n",
    "               list_code.append(d[value])\n",
    "    return list_code\n",
    "\n",
    "def full_decode(value, key):\n",
    "    dic = comparator(value, key)\n",
    "    print('Deshifre=', dic)\n",
    "    d = form_dict()\n",
    "    lis =[]\n",
    "\n",
    "    for v in dic:\n",
    "        go = (dic[v][0]-dic[v][1]+len(d)) % len(d)\n",
    "        lis.append(go)\n",
    "    return lis\n",
    "\n",
    "def vijer():\n",
    "    word = \"Hello world\"\n",
    "    key = \"key\"\n",
    "    sys.stdout.write(word)\n",
    "    sys.stdout.write(key)\n",
    "    key_encoded = encode_val(key)\n",
    "    value_encoded = encode_val(word)\n",
    "    sys.stdout.write(str(key_encoded))\n",
    "    sys.stdout.write(str(value_encoded))\n",
    "    shifre = full_encode(value_encoded, key_encoded)\n",
    "    print('Шифр=', ''.join(decode_val(shifre)))\n",
    "\n",
    "    decoded = full_decode(shifre, key_encoded)\n",
    "    print('Decode list=', decoded)\n",
    "    decode_word_list = decode_val(decoded)\n",
    "    print('Word=', ''.join(decode_word_list))"
   ]
  },
  {
   "cell_type": "code",
   "execution_count": null,
   "id": "d4d722eb",
   "metadata": {
    "ExecuteTime": {
     "start_time": "2024-02-19T04:13:30.457362700Z"
    }
   },
   "outputs": [],
   "source": [
    "vijer()"
   ]
  },
  {
   "cell_type": "code",
   "execution_count": null,
   "id": "d4053c51",
   "metadata": {
    "ExecuteTime": {
     "end_time": "2024-02-19T04:13:30.504371900Z",
     "start_time": "2024-02-19T04:13:30.460361200Z"
    }
   },
   "outputs": [],
   "source": []
  }
 ],
 "metadata": {
  "kernelspec": {
   "display_name": "Python 3 (ipykernel)",
   "language": "python",
   "name": "python3"
  },
  "language_info": {
   "codemirror_mode": {
    "name": "ipython",
    "version": 3
   },
   "file_extension": ".py",
   "mimetype": "text/x-python",
   "name": "python",
   "nbconvert_exporter": "python",
   "pygments_lexer": "ipython3",
   "version": "3.9.9"
  }
 },
 "nbformat": 4,
 "nbformat_minor": 5
}
