{
 "cells": [
  {
   "cell_type": "code",
   "execution_count": 1,
   "id": "21a282df",
   "metadata": {
    "ExecuteTime": {
     "end_time": "2024-02-19T04:26:11.017317400Z",
     "start_time": "2024-02-19T04:26:11.007110Z"
    }
   },
   "outputs": [],
   "source": [
    "import random\n",
    "\n",
    "def Ferma(n, test_count):\n",
    "    for i in range(test_count):\n",
    "        a = random.randint(2, n-1)\n",
    "        if ( a**(n-1)%n != 1):\n",
    "            print(\"Complex\")\n",
    "            return False\n",
    "    print(\"Simple\")\n",
    "    return True\n",
    "\n",
    "\n",
    "def modulo(base, exponent, mod):\n",
    "    x = 1\n",
    "    y = base\n",
    "    while (exponent > 0):\n",
    "        if (exponent%2 == 1):\n",
    "            x = (x*y)%mod\n",
    "        y = (y*y)%mod\n",
    "        exponent = exponent//2\n",
    "    return x%mod\n",
    "\n",
    "\n",
    "def calculateJacobian(a, n):\n",
    "    if (a == 0):\n",
    "        return 0\n",
    "    ans = 1\n",
    "    if (a < 0):\n",
    "        a = -a\n",
    "        if (n%4 == 3):\n",
    "            ans = -ans\n",
    "    if (a == 1):\n",
    "        return ans\n",
    "    while (a):\n",
    "        if (a < 0):\n",
    "            a = -a\n",
    "            if (n%4 == 3):\n",
    "                ans = -ans\n",
    "        while (a%2 == 0):\n",
    "            a = a//2\n",
    "            if (n%8 == 3 or n%8 == 5):\n",
    "                ans = -ans\n",
    "        a, n = n, a\n",
    "        if (a%4 == 3 and n%4 == 3):\n",
    "            ans = -ans\n",
    "        a = a%n\n",
    "        if (a > n//2):\n",
    "            a = a - n\n",
    "    if (n == 1):\n",
    "        return ans\n",
    "    return 0\n",
    "\n",
    "\n",
    "def SoloveiStrassen(p, iterations):\n",
    "    if (p < 2):\n",
    "        print(\"Complex\")\n",
    "        return False\n",
    "    if (p != 2 and p%2 == 0):\n",
    "        print(\"Complex\")\n",
    "        return False\n",
    "    for i in range(iterations):\n",
    "        a = random.randrange(p - 1) + 1\n",
    "    jacobian = (p + calculateJacobian(a, p))%p\n",
    "    mod = modulo(a, (p - 1)/2, p)\n",
    "    if (jacobian == 0 or mod != jacobian):\n",
    "        print(\"Complex\")\n",
    "        return False\n",
    "    print(\"Simple\")\n",
    "    return True\n",
    "\n",
    "def MillerRabbin(n):\n",
    "    if n != int(n):\n",
    "        print(\"Complex\")\n",
    "        return False\n",
    "    n = int(n)\n",
    "    if n == 0 or n == 1 or n == 4 or n == 6 or n == 8 or n == 9:\n",
    "        print(\"Complex\")\n",
    "        return False\n",
    "    if n == 2 or n == 3 or n == 5 or n == 7:\n",
    "        print(\"Simple\")\n",
    "        return True\n",
    "    s = 0\n",
    "    d = n - 1\n",
    "    while (d%2 == 0):\n",
    "        d >>= 1\n",
    "        s += 1\n",
    "    assert(2**s*d == n-1)\n",
    "    \n",
    "    def trial_compose(a):\n",
    "        if pow(a, d, n) == 1:\n",
    "            print(\"Complex\")\n",
    "            return False\n",
    "        for i in range(s):\n",
    "            if (pow(a, 2**i*d, n) == n - 1):\n",
    "                print(\"Complex\")\n",
    "                return False\n",
    "        print(\"Simple\")\n",
    "        return True\n",
    "    \n",
    "    for i in range(8):\n",
    "        a = random.randrange(2, n)\n",
    "        if trial_compose(a):\n",
    "            print(\"Complex\")\n",
    "            return False\n",
    "        print(\"Simple\")\n",
    "        return True"
   ]
  },
  {
   "cell_type": "code",
   "execution_count": 2,
   "id": "03f11f05",
   "metadata": {
    "ExecuteTime": {
     "end_time": "2024-02-19T04:26:11.027629200Z",
     "start_time": "2024-02-19T04:26:11.017317400Z"
    }
   },
   "outputs": [],
   "source": [
    "n = 10799"
   ]
  },
  {
   "cell_type": "code",
   "execution_count": 3,
   "id": "c57b652f",
   "metadata": {
    "ExecuteTime": {
     "end_time": "2024-02-19T04:26:11.691973800Z",
     "start_time": "2024-02-19T04:26:11.025632100Z"
    }
   },
   "outputs": [
    {
     "name": "stdout",
     "output_type": "stream",
     "text": [
      "Simple\n"
     ]
    },
    {
     "data": {
      "text/plain": "True"
     },
     "execution_count": 3,
     "metadata": {},
     "output_type": "execute_result"
    }
   ],
   "source": [
    "Ferma(n, 400)"
   ]
  },
  {
   "cell_type": "code",
   "execution_count": 4,
   "id": "bf6171d5",
   "metadata": {
    "ExecuteTime": {
     "end_time": "2024-02-19T04:26:11.701485400Z",
     "start_time": "2024-02-19T04:26:11.686377700Z"
    }
   },
   "outputs": [
    {
     "name": "stdout",
     "output_type": "stream",
     "text": [
      "Simple\n"
     ]
    },
    {
     "data": {
      "text/plain": "True"
     },
     "execution_count": 4,
     "metadata": {},
     "output_type": "execute_result"
    }
   ],
   "source": [
    "SoloveiStrassen(n, 300)"
   ]
  },
  {
   "cell_type": "code",
   "execution_count": 5,
   "id": "e9d4be47",
   "metadata": {
    "ExecuteTime": {
     "end_time": "2024-02-19T04:26:11.711079400Z",
     "start_time": "2024-02-19T04:26:11.698488100Z"
    }
   },
   "outputs": [
    {
     "name": "stdout",
     "output_type": "stream",
     "text": [
      "Complex\n",
      "Simple\n"
     ]
    },
    {
     "data": {
      "text/plain": "True"
     },
     "execution_count": 5,
     "metadata": {},
     "output_type": "execute_result"
    }
   ],
   "source": [
    "MillerRabbin(n)"
   ]
  },
  {
   "cell_type": "code",
   "execution_count": 6,
   "id": "a24237df",
   "metadata": {
    "ExecuteTime": {
     "end_time": "2024-02-19T04:26:11.809614600Z",
     "start_time": "2024-02-19T04:26:11.710078600Z"
    }
   },
   "outputs": [],
   "source": [
    "n = 10798"
   ]
  },
  {
   "cell_type": "code",
   "execution_count": 7,
   "id": "2b017632",
   "metadata": {
    "ExecuteTime": {
     "end_time": "2024-02-19T04:26:11.864140800Z",
     "start_time": "2024-02-19T04:26:11.718264600Z"
    }
   },
   "outputs": [
    {
     "name": "stdout",
     "output_type": "stream",
     "text": [
      "Complex\n"
     ]
    },
    {
     "data": {
      "text/plain": "False"
     },
     "execution_count": 7,
     "metadata": {},
     "output_type": "execute_result"
    }
   ],
   "source": [
    "Ferma(n, 400)"
   ]
  },
  {
   "cell_type": "code",
   "execution_count": 8,
   "id": "2ab6e3ab",
   "metadata": {
    "ExecuteTime": {
     "end_time": "2024-02-19T04:26:11.867142Z",
     "start_time": "2024-02-19T04:26:11.744917800Z"
    }
   },
   "outputs": [
    {
     "name": "stdout",
     "output_type": "stream",
     "text": [
      "Complex\n"
     ]
    },
    {
     "data": {
      "text/plain": "False"
     },
     "execution_count": 8,
     "metadata": {},
     "output_type": "execute_result"
    }
   ],
   "source": [
    "SoloveiStrassen(n, 300)"
   ]
  },
  {
   "cell_type": "code",
   "execution_count": 9,
   "id": "0db7c914",
   "metadata": {
    "ExecuteTime": {
     "end_time": "2024-02-19T04:26:11.869142500Z",
     "start_time": "2024-02-19T04:26:11.757949200Z"
    }
   },
   "outputs": [
    {
     "name": "stdout",
     "output_type": "stream",
     "text": [
      "Simple\n",
      "Complex\n"
     ]
    },
    {
     "data": {
      "text/plain": "False"
     },
     "execution_count": 9,
     "metadata": {},
     "output_type": "execute_result"
    }
   ],
   "source": [
    "MillerRabbin(n)"
   ]
  },
  {
   "cell_type": "code",
   "execution_count": 9,
   "id": "31ecf12a",
   "metadata": {
    "ExecuteTime": {
     "end_time": "2024-02-19T04:26:11.881145700Z",
     "start_time": "2024-02-19T04:26:11.773779200Z"
    }
   },
   "outputs": [],
   "source": []
  }
 ],
 "metadata": {
  "kernelspec": {
   "display_name": "Python 3 (ipykernel)",
   "language": "python",
   "name": "python3"
  },
  "language_info": {
   "codemirror_mode": {
    "name": "ipython",
    "version": 3
   },
   "file_extension": ".py",
   "mimetype": "text/x-python",
   "name": "python",
   "nbconvert_exporter": "python",
   "pygments_lexer": "ipython3",
   "version": "3.9.9"
  }
 },
 "nbformat": 4,
 "nbformat_minor": 5
}
